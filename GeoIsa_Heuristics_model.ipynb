{
  "cells": [
    {
      "cell_type": "code",
      "execution_count": null,
      "metadata": {
        "colab": {
          "base_uri": "https://localhost:8080/"
        },
        "id": "WAOdKUlUbHMk",
        "outputId": "89d6b484-d5ad-4b34-eb3e-058ce004845b"
      },
      "outputs": [
        {
          "output_type": "stream",
          "name": "stdout",
          "text": [
            "Collecting flair\n",
            "  Downloading flair-0.14.0-py3-none-any.whl.metadata (12 kB)\n",
            "Collecting boto3>=1.20.27 (from flair)\n",
            "  Downloading boto3-1.35.17-py3-none-any.whl.metadata (6.6 kB)\n",
            "Collecting conllu<5.0.0,>=4.0 (from flair)\n",
            "  Downloading conllu-4.5.3-py2.py3-none-any.whl.metadata (19 kB)\n",
            "Collecting deprecated>=1.2.13 (from flair)\n",
            "  Downloading Deprecated-1.2.14-py2.py3-none-any.whl.metadata (5.4 kB)\n",
            "Collecting ftfy>=6.1.0 (from flair)\n",
            "  Downloading ftfy-6.2.3-py3-none-any.whl.metadata (7.8 kB)\n",
            "Requirement already satisfied: gdown>=4.4.0 in /usr/local/lib/python3.10/dist-packages (from flair) (5.1.0)\n",
            "Requirement already satisfied: huggingface-hub>=0.10.0 in /usr/local/lib/python3.10/dist-packages (from flair) (0.24.6)\n",
            "Collecting langdetect>=1.0.9 (from flair)\n",
            "  Downloading langdetect-1.0.9.tar.gz (981 kB)\n",
            "\u001b[2K     \u001b[90m━━━━━━━━━━━━━━━━━━━━━━━━━━━━━━━━━━━━━━━━\u001b[0m \u001b[32m981.5/981.5 kB\u001b[0m \u001b[31m41.7 MB/s\u001b[0m eta \u001b[36m0:00:00\u001b[0m\n",
            "\u001b[?25h  Preparing metadata (setup.py) ... \u001b[?25l\u001b[?25hdone\n",
            "Requirement already satisfied: lxml>=4.8.0 in /usr/local/lib/python3.10/dist-packages (from flair) (4.9.4)\n",
            "Requirement already satisfied: matplotlib>=2.2.3 in /usr/local/lib/python3.10/dist-packages (from flair) (3.7.1)\n",
            "Requirement already satisfied: more-itertools>=8.13.0 in /usr/local/lib/python3.10/dist-packages (from flair) (10.3.0)\n",
            "Collecting mpld3>=0.3 (from flair)\n",
            "  Downloading mpld3-0.5.10-py3-none-any.whl.metadata (5.1 kB)\n",
            "Collecting pptree>=3.1 (from flair)\n",
            "  Downloading pptree-3.1.tar.gz (3.0 kB)\n",
            "  Preparing metadata (setup.py) ... \u001b[?25l\u001b[?25hdone\n",
            "Requirement already satisfied: python-dateutil>=2.8.2 in /usr/local/lib/python3.10/dist-packages (from flair) (2.8.2)\n",
            "Collecting pytorch-revgrad>=0.2.0 (from flair)\n",
            "  Downloading pytorch_revgrad-0.2.0-py3-none-any.whl.metadata (1.7 kB)\n",
            "Requirement already satisfied: regex>=2022.1.18 in /usr/local/lib/python3.10/dist-packages (from flair) (2024.5.15)\n",
            "Requirement already satisfied: scikit-learn>=1.0.2 in /usr/local/lib/python3.10/dist-packages (from flair) (1.3.2)\n",
            "Collecting segtok>=1.5.11 (from flair)\n",
            "  Downloading segtok-1.5.11-py3-none-any.whl.metadata (9.0 kB)\n",
            "Collecting sqlitedict>=2.0.0 (from flair)\n",
            "  Downloading sqlitedict-2.1.0.tar.gz (21 kB)\n",
            "  Preparing metadata (setup.py) ... \u001b[?25l\u001b[?25hdone\n",
            "Requirement already satisfied: tabulate>=0.8.10 in /usr/local/lib/python3.10/dist-packages (from flair) (0.9.0)\n",
            "Requirement already satisfied: torch!=1.8,>=1.5.0 in /usr/local/lib/python3.10/dist-packages (from flair) (2.4.0+cu121)\n",
            "Requirement already satisfied: tqdm>=4.63.0 in /usr/local/lib/python3.10/dist-packages (from flair) (4.66.5)\n",
            "Collecting transformer-smaller-training-vocab>=0.2.3 (from flair)\n",
            "  Downloading transformer_smaller_training_vocab-0.4.0-py3-none-any.whl.metadata (8.1 kB)\n",
            "Requirement already satisfied: transformers<5.0.0,>=4.18.0 in /usr/local/lib/python3.10/dist-packages (from transformers[sentencepiece]<5.0.0,>=4.18.0->flair) (4.44.2)\n",
            "Collecting wikipedia-api>=0.5.7 (from flair)\n",
            "  Downloading wikipedia_api-0.7.1.tar.gz (17 kB)\n",
            "  Preparing metadata (setup.py) ... \u001b[?25l\u001b[?25hdone\n",
            "Collecting semver<4.0.0,>=3.0.0 (from flair)\n",
            "  Downloading semver-3.0.2-py3-none-any.whl.metadata (5.0 kB)\n",
            "Collecting bioc<3.0.0,>=2.0.0 (from flair)\n",
            "  Downloading bioc-2.1-py3-none-any.whl.metadata (4.6 kB)\n",
            "Collecting jsonlines>=1.2.0 (from bioc<3.0.0,>=2.0.0->flair)\n",
            "  Downloading jsonlines-4.0.0-py3-none-any.whl.metadata (1.6 kB)\n",
            "Collecting intervaltree (from bioc<3.0.0,>=2.0.0->flair)\n",
            "  Downloading intervaltree-3.1.0.tar.gz (32 kB)\n",
            "  Preparing metadata (setup.py) ... \u001b[?25l\u001b[?25hdone\n",
            "Collecting docopt (from bioc<3.0.0,>=2.0.0->flair)\n",
            "  Downloading docopt-0.6.2.tar.gz (25 kB)\n",
            "  Preparing metadata (setup.py) ... \u001b[?25l\u001b[?25hdone\n",
            "Collecting botocore<1.36.0,>=1.35.17 (from boto3>=1.20.27->flair)\n",
            "  Downloading botocore-1.35.17-py3-none-any.whl.metadata (5.7 kB)\n",
            "Collecting jmespath<2.0.0,>=0.7.1 (from boto3>=1.20.27->flair)\n",
            "  Downloading jmespath-1.0.1-py3-none-any.whl.metadata (7.6 kB)\n",
            "Collecting s3transfer<0.11.0,>=0.10.0 (from boto3>=1.20.27->flair)\n",
            "  Downloading s3transfer-0.10.2-py3-none-any.whl.metadata (1.7 kB)\n",
            "Requirement already satisfied: wrapt<2,>=1.10 in /usr/local/lib/python3.10/dist-packages (from deprecated>=1.2.13->flair) (1.16.0)\n",
            "Requirement already satisfied: wcwidth<0.3.0,>=0.2.12 in /usr/local/lib/python3.10/dist-packages (from ftfy>=6.1.0->flair) (0.2.13)\n",
            "Requirement already satisfied: beautifulsoup4 in /usr/local/lib/python3.10/dist-packages (from gdown>=4.4.0->flair) (4.12.3)\n",
            "Requirement already satisfied: filelock in /usr/local/lib/python3.10/dist-packages (from gdown>=4.4.0->flair) (3.16.0)\n",
            "Requirement already satisfied: requests[socks] in /usr/local/lib/python3.10/dist-packages (from gdown>=4.4.0->flair) (2.32.3)\n",
            "Requirement already satisfied: fsspec>=2023.5.0 in /usr/local/lib/python3.10/dist-packages (from huggingface-hub>=0.10.0->flair) (2024.6.1)\n",
            "Requirement already satisfied: packaging>=20.9 in /usr/local/lib/python3.10/dist-packages (from huggingface-hub>=0.10.0->flair) (24.1)\n",
            "Requirement already satisfied: pyyaml>=5.1 in /usr/local/lib/python3.10/dist-packages (from huggingface-hub>=0.10.0->flair) (6.0.2)\n",
            "Requirement already satisfied: typing-extensions>=3.7.4.3 in /usr/local/lib/python3.10/dist-packages (from huggingface-hub>=0.10.0->flair) (4.12.2)\n",
            "Requirement already satisfied: six in /usr/local/lib/python3.10/dist-packages (from langdetect>=1.0.9->flair) (1.16.0)\n",
            "Requirement already satisfied: contourpy>=1.0.1 in /usr/local/lib/python3.10/dist-packages (from matplotlib>=2.2.3->flair) (1.3.0)\n",
            "Requirement already satisfied: cycler>=0.10 in /usr/local/lib/python3.10/dist-packages (from matplotlib>=2.2.3->flair) (0.12.1)\n",
            "Requirement already satisfied: fonttools>=4.22.0 in /usr/local/lib/python3.10/dist-packages (from matplotlib>=2.2.3->flair) (4.53.1)\n",
            "Requirement already satisfied: kiwisolver>=1.0.1 in /usr/local/lib/python3.10/dist-packages (from matplotlib>=2.2.3->flair) (1.4.7)\n",
            "Requirement already satisfied: numpy>=1.20 in /usr/local/lib/python3.10/dist-packages (from matplotlib>=2.2.3->flair) (1.26.4)\n",
            "Requirement already satisfied: pillow>=6.2.0 in /usr/local/lib/python3.10/dist-packages (from matplotlib>=2.2.3->flair) (9.4.0)\n",
            "Requirement already satisfied: pyparsing>=2.3.1 in /usr/local/lib/python3.10/dist-packages (from matplotlib>=2.2.3->flair) (3.1.4)\n",
            "Requirement already satisfied: jinja2 in /usr/local/lib/python3.10/dist-packages (from mpld3>=0.3->flair) (3.1.4)\n",
            "Requirement already satisfied: scipy>=1.5.0 in /usr/local/lib/python3.10/dist-packages (from scikit-learn>=1.0.2->flair) (1.13.1)\n",
            "Requirement already satisfied: joblib>=1.1.1 in /usr/local/lib/python3.10/dist-packages (from scikit-learn>=1.0.2->flair) (1.4.2)\n",
            "Requirement already satisfied: threadpoolctl>=2.0.0 in /usr/local/lib/python3.10/dist-packages (from scikit-learn>=1.0.2->flair) (3.5.0)\n",
            "Requirement already satisfied: sympy in /usr/local/lib/python3.10/dist-packages (from torch!=1.8,>=1.5.0->flair) (1.13.2)\n",
            "Requirement already satisfied: networkx in /usr/local/lib/python3.10/dist-packages (from torch!=1.8,>=1.5.0->flair) (3.3)\n",
            "Requirement already satisfied: safetensors>=0.4.1 in /usr/local/lib/python3.10/dist-packages (from transformers<5.0.0,>=4.18.0->transformers[sentencepiece]<5.0.0,>=4.18.0->flair) (0.4.5)\n",
            "Requirement already satisfied: tokenizers<0.20,>=0.19 in /usr/local/lib/python3.10/dist-packages (from transformers<5.0.0,>=4.18.0->transformers[sentencepiece]<5.0.0,>=4.18.0->flair) (0.19.1)\n",
            "Requirement already satisfied: protobuf in /usr/local/lib/python3.10/dist-packages (from transformers[sentencepiece]<5.0.0,>=4.18.0->flair) (3.20.3)\n",
            "Requirement already satisfied: sentencepiece!=0.1.92,>=0.1.91 in /usr/local/lib/python3.10/dist-packages (from transformers[sentencepiece]<5.0.0,>=4.18.0->flair) (0.1.99)\n",
            "Requirement already satisfied: urllib3!=2.2.0,<3,>=1.25.4 in /usr/local/lib/python3.10/dist-packages (from botocore<1.36.0,>=1.35.17->boto3>=1.20.27->flair) (2.0.7)\n",
            "Requirement already satisfied: attrs>=19.2.0 in /usr/local/lib/python3.10/dist-packages (from jsonlines>=1.2.0->bioc<3.0.0,>=2.0.0->flair) (24.2.0)\n",
            "Requirement already satisfied: accelerate>=0.21.0 in /usr/local/lib/python3.10/dist-packages (from transformers[sentencepiece,torch]<5.0,>=4.1->transformer-smaller-training-vocab>=0.2.3->flair) (0.33.0)\n",
            "Requirement already satisfied: soupsieve>1.2 in /usr/local/lib/python3.10/dist-packages (from beautifulsoup4->gdown>=4.4.0->flair) (2.6)\n",
            "Requirement already satisfied: sortedcontainers<3.0,>=2.0 in /usr/local/lib/python3.10/dist-packages (from intervaltree->bioc<3.0.0,>=2.0.0->flair) (2.4.0)\n",
            "Requirement already satisfied: MarkupSafe>=2.0 in /usr/local/lib/python3.10/dist-packages (from jinja2->mpld3>=0.3->flair) (2.1.5)\n",
            "Requirement already satisfied: charset-normalizer<4,>=2 in /usr/local/lib/python3.10/dist-packages (from requests[socks]->gdown>=4.4.0->flair) (3.3.2)\n",
            "Requirement already satisfied: idna<4,>=2.5 in /usr/local/lib/python3.10/dist-packages (from requests[socks]->gdown>=4.4.0->flair) (3.8)\n",
            "Requirement already satisfied: certifi>=2017.4.17 in /usr/local/lib/python3.10/dist-packages (from requests[socks]->gdown>=4.4.0->flair) (2024.8.30)\n",
            "Requirement already satisfied: PySocks!=1.5.7,>=1.5.6 in /usr/local/lib/python3.10/dist-packages (from requests[socks]->gdown>=4.4.0->flair) (1.7.1)\n",
            "Requirement already satisfied: mpmath<1.4,>=1.1.0 in /usr/local/lib/python3.10/dist-packages (from sympy->torch!=1.8,>=1.5.0->flair) (1.3.0)\n",
            "Requirement already satisfied: psutil in /usr/local/lib/python3.10/dist-packages (from accelerate>=0.21.0->transformers[sentencepiece,torch]<5.0,>=4.1->transformer-smaller-training-vocab>=0.2.3->flair) (5.9.5)\n",
            "Downloading flair-0.14.0-py3-none-any.whl (776 kB)\n",
            "\u001b[2K   \u001b[90m━━━━━━━━━━━━━━━━━━━━━━━━━━━━━━━━━━━━━━━━\u001b[0m \u001b[32m776.5/776.5 kB\u001b[0m \u001b[31m30.0 MB/s\u001b[0m eta \u001b[36m0:00:00\u001b[0m\n",
            "\u001b[?25hDownloading bioc-2.1-py3-none-any.whl (33 kB)\n",
            "Downloading boto3-1.35.17-py3-none-any.whl (139 kB)\n",
            "\u001b[2K   \u001b[90m━━━━━━━━━━━━━━━━━━━━━━━━━━━━━━━━━━━━━━━━\u001b[0m \u001b[32m139.2/139.2 kB\u001b[0m \u001b[31m13.6 MB/s\u001b[0m eta \u001b[36m0:00:00\u001b[0m\n",
            "\u001b[?25hDownloading conllu-4.5.3-py2.py3-none-any.whl (16 kB)\n",
            "Downloading Deprecated-1.2.14-py2.py3-none-any.whl (9.6 kB)\n",
            "Downloading ftfy-6.2.3-py3-none-any.whl (43 kB)\n",
            "\u001b[2K   \u001b[90m━━━━━━━━━━━━━━━━━━━━━━━━━━━━━━━━━━━━━━━━\u001b[0m \u001b[32m43.0/43.0 kB\u001b[0m \u001b[31m3.9 MB/s\u001b[0m eta \u001b[36m0:00:00\u001b[0m\n",
            "\u001b[?25hDownloading mpld3-0.5.10-py3-none-any.whl (202 kB)\n",
            "\u001b[2K   \u001b[90m━━━━━━━━━━━━━━━━━━━━━━━━━━━━━━━━━━━━━━━━\u001b[0m \u001b[32m202.6/202.6 kB\u001b[0m \u001b[31m19.2 MB/s\u001b[0m eta \u001b[36m0:00:00\u001b[0m\n",
            "\u001b[?25hDownloading pytorch_revgrad-0.2.0-py3-none-any.whl (4.6 kB)\n",
            "Downloading segtok-1.5.11-py3-none-any.whl (24 kB)\n",
            "Downloading semver-3.0.2-py3-none-any.whl (17 kB)\n",
            "Downloading transformer_smaller_training_vocab-0.4.0-py3-none-any.whl (14 kB)\n",
            "Downloading botocore-1.35.17-py3-none-any.whl (12.5 MB)\n",
            "\u001b[2K   \u001b[90m━━━━━━━━━━━━━━━━━━━━━━━━━━━━━━━━━━━━━━━━\u001b[0m \u001b[32m12.5/12.5 MB\u001b[0m \u001b[31m116.4 MB/s\u001b[0m eta \u001b[36m0:00:00\u001b[0m\n",
            "\u001b[?25hDownloading jmespath-1.0.1-py3-none-any.whl (20 kB)\n",
            "Downloading jsonlines-4.0.0-py3-none-any.whl (8.7 kB)\n",
            "Downloading s3transfer-0.10.2-py3-none-any.whl (82 kB)\n",
            "\u001b[2K   \u001b[90m━━━━━━━━━━━━━━━━━━━━━━━━━━━━━━━━━━━━━━━━\u001b[0m \u001b[32m82.7/82.7 kB\u001b[0m \u001b[31m8.4 MB/s\u001b[0m eta \u001b[36m0:00:00\u001b[0m\n",
            "\u001b[?25hBuilding wheels for collected packages: langdetect, pptree, sqlitedict, wikipedia-api, docopt, intervaltree\n",
            "  Building wheel for langdetect (setup.py) ... \u001b[?25l\u001b[?25hdone\n",
            "  Created wheel for langdetect: filename=langdetect-1.0.9-py3-none-any.whl size=993221 sha256=621ec5db3aa43821126e36f7af3594578aded1305a645659b14ca9746d94458f\n",
            "  Stored in directory: /root/.cache/pip/wheels/95/03/7d/59ea870c70ce4e5a370638b5462a7711ab78fba2f655d05106\n",
            "  Building wheel for pptree (setup.py) ... \u001b[?25l\u001b[?25hdone\n",
            "  Created wheel for pptree: filename=pptree-3.1-py3-none-any.whl size=4609 sha256=30ef54c88868bde58b4594dfb94b36cc3a0d5dfaf9d324c1ae6d594e3065eb53\n",
            "  Stored in directory: /root/.cache/pip/wheels/9f/b6/0e/6f26eb9e6eb53ff2107a7888d72b5a6a597593956113037828\n",
            "  Building wheel for sqlitedict (setup.py) ... \u001b[?25l\u001b[?25hdone\n",
            "  Created wheel for sqlitedict: filename=sqlitedict-2.1.0-py3-none-any.whl size=16863 sha256=37649ded7650b3f8b2ac6bc37ea0151da1ae17d6d8ce3f641c5807e40d036dfa\n",
            "  Stored in directory: /root/.cache/pip/wheels/79/d6/e7/304e0e6cb2221022c26d8161f7c23cd4f259a9e41e8bbcfabd\n",
            "  Building wheel for wikipedia-api (setup.py) ... \u001b[?25l\u001b[?25hdone\n",
            "  Created wheel for wikipedia-api: filename=Wikipedia_API-0.7.1-py3-none-any.whl size=14347 sha256=cf34205b08f432e1eaec54a890a7eb5aa92c5662a17d872752032d47d3204b29\n",
            "  Stored in directory: /root/.cache/pip/wheels/4c/96/18/b9201cc3e8b47b02b510460210cfd832ccf10c0c4dd0522962\n",
            "  Building wheel for docopt (setup.py) ... \u001b[?25l\u001b[?25hdone\n",
            "  Created wheel for docopt: filename=docopt-0.6.2-py2.py3-none-any.whl size=13704 sha256=ce819ccbe89c2aa62bb2007ab1f66774abd76bad26500b3f0647b6506e5b5ea2\n",
            "  Stored in directory: /root/.cache/pip/wheels/fc/ab/d4/5da2067ac95b36618c629a5f93f809425700506f72c9732fac\n",
            "  Building wheel for intervaltree (setup.py) ... \u001b[?25l\u001b[?25hdone\n",
            "  Created wheel for intervaltree: filename=intervaltree-3.1.0-py2.py3-none-any.whl size=26096 sha256=c1a595162bb3fa1ba01f7321946a0108b3e3b42b7d3fb7593c0ac5964e21c22a\n",
            "  Stored in directory: /root/.cache/pip/wheels/fa/80/8c/43488a924a046b733b64de3fac99252674c892a4c3801c0a61\n",
            "Successfully built langdetect pptree sqlitedict wikipedia-api docopt intervaltree\n",
            "Installing collected packages: sqlitedict, pptree, docopt, semver, segtok, langdetect, jsonlines, jmespath, intervaltree, ftfy, deprecated, conllu, wikipedia-api, botocore, bioc, s3transfer, pytorch-revgrad, mpld3, boto3, transformer-smaller-training-vocab, flair\n",
            "Successfully installed bioc-2.1 boto3-1.35.17 botocore-1.35.17 conllu-4.5.3 deprecated-1.2.14 docopt-0.6.2 flair-0.14.0 ftfy-6.2.3 intervaltree-3.1.0 jmespath-1.0.1 jsonlines-4.0.0 langdetect-1.0.9 mpld3-0.5.10 pptree-3.1 pytorch-revgrad-0.2.0 s3transfer-0.10.2 segtok-1.5.11 semver-3.0.2 sqlitedict-2.1.0 transformer-smaller-training-vocab-0.4.0 wikipedia-api-0.7.1\n",
            "Collecting pyvis\n",
            "  Downloading pyvis-0.3.2-py3-none-any.whl.metadata (1.7 kB)\n",
            "Requirement already satisfied: ipython>=5.3.0 in /usr/local/lib/python3.10/dist-packages (from pyvis) (7.34.0)\n",
            "Requirement already satisfied: jinja2>=2.9.6 in /usr/local/lib/python3.10/dist-packages (from pyvis) (3.1.4)\n",
            "Requirement already satisfied: jsonpickle>=1.4.1 in /usr/local/lib/python3.10/dist-packages (from pyvis) (3.3.0)\n",
            "Requirement already satisfied: networkx>=1.11 in /usr/local/lib/python3.10/dist-packages (from pyvis) (3.3)\n",
            "Requirement already satisfied: setuptools>=18.5 in /usr/local/lib/python3.10/dist-packages (from ipython>=5.3.0->pyvis) (71.0.4)\n",
            "Collecting jedi>=0.16 (from ipython>=5.3.0->pyvis)\n",
            "  Using cached jedi-0.19.1-py2.py3-none-any.whl.metadata (22 kB)\n",
            "Requirement already satisfied: decorator in /usr/local/lib/python3.10/dist-packages (from ipython>=5.3.0->pyvis) (4.4.2)\n",
            "Requirement already satisfied: pickleshare in /usr/local/lib/python3.10/dist-packages (from ipython>=5.3.0->pyvis) (0.7.5)\n",
            "Requirement already satisfied: traitlets>=4.2 in /usr/local/lib/python3.10/dist-packages (from ipython>=5.3.0->pyvis) (5.7.1)\n",
            "Requirement already satisfied: prompt-toolkit!=3.0.0,!=3.0.1,<3.1.0,>=2.0.0 in /usr/local/lib/python3.10/dist-packages (from ipython>=5.3.0->pyvis) (3.0.47)\n",
            "Requirement already satisfied: pygments in /usr/local/lib/python3.10/dist-packages (from ipython>=5.3.0->pyvis) (2.16.1)\n",
            "Requirement already satisfied: backcall in /usr/local/lib/python3.10/dist-packages (from ipython>=5.3.0->pyvis) (0.2.0)\n",
            "Requirement already satisfied: matplotlib-inline in /usr/local/lib/python3.10/dist-packages (from ipython>=5.3.0->pyvis) (0.1.7)\n",
            "Requirement already satisfied: pexpect>4.3 in /usr/local/lib/python3.10/dist-packages (from ipython>=5.3.0->pyvis) (4.9.0)\n",
            "Requirement already satisfied: MarkupSafe>=2.0 in /usr/local/lib/python3.10/dist-packages (from jinja2>=2.9.6->pyvis) (2.1.5)\n",
            "Requirement already satisfied: parso<0.9.0,>=0.8.3 in /usr/local/lib/python3.10/dist-packages (from jedi>=0.16->ipython>=5.3.0->pyvis) (0.8.4)\n",
            "Requirement already satisfied: ptyprocess>=0.5 in /usr/local/lib/python3.10/dist-packages (from pexpect>4.3->ipython>=5.3.0->pyvis) (0.7.0)\n",
            "Requirement already satisfied: wcwidth in /usr/local/lib/python3.10/dist-packages (from prompt-toolkit!=3.0.0,!=3.0.1,<3.1.0,>=2.0.0->ipython>=5.3.0->pyvis) (0.2.13)\n",
            "Downloading pyvis-0.3.2-py3-none-any.whl (756 kB)\n",
            "\u001b[2K   \u001b[90m━━━━━━━━━━━━━━━━━━━━━━━━━━━━━━━━━━━━━━━━\u001b[0m \u001b[32m756.0/756.0 kB\u001b[0m \u001b[31m40.6 MB/s\u001b[0m eta \u001b[36m0:00:00\u001b[0m\n",
            "\u001b[?25hUsing cached jedi-0.19.1-py2.py3-none-any.whl (1.6 MB)\n",
            "Installing collected packages: jedi, pyvis\n",
            "Successfully installed jedi-0.19.1 pyvis-0.3.2\n"
          ]
        }
      ],
      "source": [
        "!pip install flair\n",
        "!pip install pyvis"
      ],
      "id": "WAOdKUlUbHMk"
    },
    {
      "cell_type": "code",
      "execution_count": null,
      "metadata": {
        "id": "a4FRzQJTbEHF",
        "colab": {
          "base_uri": "https://localhost:8080/"
        },
        "outputId": "d3fb27b4-f40a-4557-f8c8-fe8453ffb20d"
      },
      "outputs": [
        {
          "output_type": "stream",
          "name": "stdout",
          "text": [
            "Mounted at /content/drive/\n"
          ]
        }
      ],
      "source": [
        "from google.colab import drive\n",
        "drive.mount('/content/drive/')"
      ],
      "id": "a4FRzQJTbEHF"
    },
    {
      "cell_type": "code",
      "execution_count": null,
      "metadata": {
        "id": "537f7321"
      },
      "outputs": [],
      "source": [
        "import sys\n",
        "sys.path.append(\"/content/drive/MyDrive/01-Research/Geo-Isa/code/\")"
      ],
      "id": "537f7321"
    },
    {
      "cell_type": "code",
      "execution_count": null,
      "metadata": {
        "id": "XV2lBMLRMKBv"
      },
      "outputs": [],
      "source": [
        "!mkdir -p /root/.flair/models/\n",
        "!cp -R /content/drive/MyDrive/01-Research/Geo-Isa/\\code/ner-english-ontonotes-fast /root/.flair/models/"
      ],
      "id": "XV2lBMLRMKBv"
    },
    {
      "cell_type": "code",
      "execution_count": null,
      "metadata": {
        "id": "7e95844e",
        "colab": {
          "base_uri": "https://localhost:8080/",
          "height": 190,
          "referenced_widgets": [
            "ff9de319c7a74c8a86c3c6efe2cc4bd7",
            "8bd43abf2f8e4bbe9a6237b2bc14080c",
            "04775241c3144adf8554a28f80da2228",
            "9593b77599724d2091227f64286e29ea",
            "aa41c0511d0c48458ec2f886aa45273c",
            "6568eda2ff3743348969ff6f79e677de",
            "22dbc761234c4d97a4138eebb6a94639",
            "3dd669eb148e4f2ab852344b6657a202",
            "66993eb7d9824b5bb5ed33b428c7123b",
            "063db137f6a144feb0f3ca71ef92058b",
            "ec07cc16cc2b4317b7012f4796397aff"
          ]
        },
        "outputId": "a02cb7be-6946-4c81-d71f-ceb432851971"
      },
      "outputs": [
        {
          "output_type": "stream",
          "name": "stderr",
          "text": [
            "/usr/local/lib/python3.10/dist-packages/huggingface_hub/utils/_token.py:89: UserWarning: \n",
            "The secret `HF_TOKEN` does not exist in your Colab secrets.\n",
            "To authenticate with the Hugging Face Hub, create a token in your settings tab (https://huggingface.co/settings/tokens), set it as secret in your Google Colab and restart your session.\n",
            "You will be able to reuse this secret in all of your notebooks.\n",
            "Please note that authentication is recommended but still optional to access public models or datasets.\n",
            "  warnings.warn(\n"
          ]
        },
        {
          "output_type": "display_data",
          "data": {
            "text/plain": [
              "pytorch_model.bin:   0%|          | 0.00/1.30G [00:00<?, ?B/s]"
            ],
            "application/vnd.jupyter.widget-view+json": {
              "version_major": 2,
              "version_minor": 0,
              "model_id": "ff9de319c7a74c8a86c3c6efe2cc4bd7"
            }
          },
          "metadata": {}
        },
        {
          "output_type": "stream",
          "name": "stdout",
          "text": [
            "2024-09-12 10:49:41,709 SequenceTagger predicts: Dictionary with 75 tags: O, S-PERSON, B-PERSON, E-PERSON, I-PERSON, S-GPE, B-GPE, E-GPE, I-GPE, S-ORG, B-ORG, E-ORG, I-ORG, S-DATE, B-DATE, E-DATE, I-DATE, S-CARDINAL, B-CARDINAL, E-CARDINAL, I-CARDINAL, S-NORP, B-NORP, E-NORP, I-NORP, S-MONEY, B-MONEY, E-MONEY, I-MONEY, S-PERCENT, B-PERCENT, E-PERCENT, I-PERCENT, S-ORDINAL, B-ORDINAL, E-ORDINAL, I-ORDINAL, S-LOC, B-LOC, E-LOC, I-LOC, S-TIME, B-TIME, E-TIME, I-TIME, S-WORK_OF_ART, B-WORK_OF_ART, E-WORK_OF_ART, I-WORK_OF_ART, S-FAC\n"
          ]
        }
      ],
      "source": [
        "import pandas as pd\n",
        "from collections import defaultdict\n",
        "import Relex\n",
        "from Relex import CoNetwork, DepNetwork, ConstNetwork\n",
        "from Relex import FlairNER, SpacyNER\n",
        "from Relex import spacy_flair_intersection, spacy_flair_union, tagged_tokens_2_rels"
      ],
      "id": "7e95844e"
    },
    {
      "cell_type": "code",
      "execution_count": null,
      "metadata": {
        "id": "cBpXICKWL_Pl"
      },
      "outputs": [],
      "source": [
        "NEGATIVE_FLAG = \"no_relation\"\n",
        "rel_headers = [\"sent_idx\", \"sent_text\", \"rel_type\", \"ent1_text\", \"ent2_text\", \"ent1_type\", \"ent2_type\", \"ent1_id\", \"ent2_id\", \"in_between_text\", \"sdp_dist\", \"sdp_path\", \"sdp_dep_pos\", \"const_pos\"]"
      ],
      "id": "cBpXICKWL_Pl"
    },
    {
      "cell_type": "markdown",
      "metadata": {
        "id": "Wb0hSrnL_77l"
      },
      "source": [
        "# Prepare features and rules"
      ],
      "id": "Wb0hSrnL_77l"
    },
    {
      "cell_type": "code",
      "execution_count": null,
      "metadata": {
        "id": "LLh3jzPjVn7z"
      },
      "outputs": [],
      "source": [
        "def rule_0(gt):\n",
        "    if gt==\"no_relation\":\n",
        "        return 0\n",
        "    else:\n",
        "        return 1"
      ],
      "id": "LLh3jzPjVn7z"
    },
    {
      "cell_type": "markdown",
      "metadata": {
        "id": "u6qon7K6bDE1"
      },
      "source": [
        "# Sitreps"
      ],
      "id": "u6qon7K6bDE1"
    },
    {
      "cell_type": "code",
      "execution_count": null,
      "metadata": {
        "id": "fkRgIbqmSWwP"
      },
      "outputs": [],
      "source": [
        "def rule_1(dep):\n",
        "    if len(dep)>=2 and len(dep)<=16:\n",
        "        if len(set(dep))==1 and dep[0]==\"PROPN\":\n",
        "            return 1\n",
        "    return 0\n",
        "\n",
        "def rule_2(dep):\n",
        "    ptn = [\"VERB\", \"ADP\", \"PROPN\"]\n",
        "    if \" \".join(ptn) in \" \".join(dep):\n",
        "        return 1\n",
        "    return 0\n",
        "\n",
        "def rule_3(dep):\n",
        "    ptn = [\"VERB\", \"NOUN\"]\n",
        "    if \" \".join(ptn) in \" \".join(dep):\n",
        "        return 1\n",
        "    return 0\n",
        "\n",
        "# def rule_3(dep):\n",
        "#     ptn = [\"VERB\", \"NOUN\"]\n",
        "#     if \" \".join(ptn) in \" \".join(dep):\n",
        "#         return 1\n",
        "#     return 0\n",
        "\n",
        "def rule_4(const):\n",
        "    if len(const)>=1 and len(const)<=8:\n",
        "        if len(set(const))==1 and const[0]==\"PROPN\":\n",
        "            return 1\n",
        "    return 0\n",
        "\n",
        "def rule_5(const):\n",
        "    # if \"CCONJ\" == const[0]:\n",
        "    if \"CCONJ\" in const:\n",
        "        return 1\n",
        "    return 0\n",
        "\n",
        "def rule_6(const):\n",
        "    if \"ADP\" in const:\n",
        "        return 1\n",
        "    return 0\n",
        "\n",
        "def rule_7(co_dist):\n",
        "    if co_dist in [1, 2, 3, 4, 5]: # increased to top 5\n",
        "        return 1\n",
        "    return 0\n",
        "\n",
        "def rule_8(dep_dist):\n",
        "    if dep_dist in [1, 3, 4, 5, 6]:\n",
        "        return 1\n",
        "    return 0"
      ],
      "id": "fkRgIbqmSWwP"
    },
    {
      "cell_type": "code",
      "execution_count": null,
      "metadata": {
        "id": "MeBoe-5RMNby"
      },
      "outputs": [],
      "source": [
        "# for gt data\n",
        "sitreps_tagged_tokens_path = \"~/sitreps_tagged_tokens.csv\"\n",
        "sitreps_gt_relations_path = \"~/sitreps_gt_relations_0417.csv\"\n",
        "\n",
        "sitreps_tagged_tokens = pd.read_csv(sitreps_tagged_tokens_path, keep_default_na=False, dtype={'human_annotation_ent_id': str}).values.tolist()\n",
        "sitreps_gt_relations = pd.read_csv(sitreps_gt_relations_path, keep_default_na=False).values.tolist()\n",
        "\n",
        "potential_rels = tagged_tokens_2_rels(sitreps_tagged_tokens)\n",
        "gt_tf_table = defaultdict(lambda: {})\n",
        "for gt_rel in sitreps_gt_relations:\n",
        "    gt_tf_table[gt_rel[0]][frozenset([gt_rel[7], gt_rel[8]])] = gt_rel[2]\n",
        "\n",
        "for rel in potential_rels:\n",
        "    if frozenset([rel[7], rel[8]]) in gt_tf_table[rel[0]].keys():\n",
        "        gt_rel_type = gt_tf_table[rel[0]][frozenset([rel[7], rel[8]])]\n",
        "    else:\n",
        "        gt_rel_type = \"no_relation\"\n",
        "\n",
        "    rel[2] = gt_rel_type\n",
        "\n",
        "sitreps_gt_relations = potential_rels"
      ],
      "id": "MeBoe-5RMNby"
    },
    {
      "cell_type": "code",
      "execution_count": null,
      "metadata": {
        "id": "0P9tpIrxwWKH",
        "colab": {
          "base_uri": "https://localhost:8080/"
        },
        "outputId": "0ef29f5f-8c9d-4b82-80da-93ecc27fac1a"
      },
      "outputs": [
        {
          "output_type": "execute_result",
          "data": {
            "text/plain": [
              "[5,\n",
              " 'EMERGENCY OPERATIONS \\n',\n",
              " 'no_relation',\n",
              " '',\n",
              " '',\n",
              " '',\n",
              " '',\n",
              " '',\n",
              " '',\n",
              " '',\n",
              " 'no_path_found',\n",
              " 'no_path_found',\n",
              " 'no_path_found',\n",
              " '']"
            ]
          },
          "metadata": {},
          "execution_count": 30
        }
      ],
      "source": [
        "sitreps_gt_relations[19]"
      ],
      "id": "0P9tpIrxwWKH"
    },
    {
      "cell_type": "code",
      "execution_count": null,
      "metadata": {
        "id": "Y_bEQcQQyG3r",
        "colab": {
          "base_uri": "https://localhost:8080/"
        },
        "outputId": "d28723e9-e0dc-4bcc-ab92-c29f27e8db97"
      },
      "outputs": [
        {
          "output_type": "execute_result",
          "data": {
            "text/plain": [
              "[['Hurricane', 'PROPN', 'compound', 1, 0, 9, 0, 0, '0', 'LOC'],\n",
              " ['Matthew', 'PROPN', 'nsubj', 2, 10, 17, 1, 0, '0', 'LOC'],\n",
              " ['was', 'AUX', 'ROOT', 2, 18, 21, 2, 0, '', ''],\n",
              " ['a', 'DET', 'det', 5, 22, 23, 3, 0, '', '']]"
            ]
          },
          "metadata": {},
          "execution_count": 31
        }
      ],
      "source": [
        "sitreps_tagged_tokens[:4]"
      ],
      "id": "Y_bEQcQQyG3r"
    },
    {
      "cell_type": "code",
      "execution_count": null,
      "metadata": {
        "id": "7SEXFVAsUvoZ"
      },
      "outputs": [],
      "source": [
        "def sitreps_features(gt_relations):\n",
        "    features = []\n",
        "    for gt_rel in gt_relations:\n",
        "        co_dist = len(gt_rel[9].split(\" \"))\n",
        "        dep_dist = gt_rel[10]\n",
        "        dep = gt_rel[12]\n",
        "        const = gt_rel[13]\n",
        "        features.append([\n",
        "            rule_0(gt_rel[2]), rule_1(dep), rule_2(dep), rule_3(dep), rule_4(const), rule_5(const), rule_6(const), rule_7(co_dist), rule_8(dep_dist)\n",
        "            #rule_0(gt_rel[2]), rule_1(dep), rule_2(dep), rule_3(dep), rule_4(const), rule_5(const), rule_6(const), rule_7(co_dist), rule_8(dep_dist)\n",
        "        ])\n",
        "    return features"
      ],
      "id": "7SEXFVAsUvoZ"
    },
    {
      "cell_type": "code",
      "execution_count": null,
      "metadata": {
        "id": "Rpn_PbWlKcVz"
      },
      "outputs": [],
      "source": [
        "sitreps_gt_features = sitreps_features(sitreps_gt_relations)"
      ],
      "id": "Rpn_PbWlKcVz"
    },
    {
      "cell_type": "code",
      "execution_count": null,
      "metadata": {
        "id": "ZlQDgV6UWJK2",
        "colab": {
          "base_uri": "https://localhost:8080/",
          "height": 295
        },
        "outputId": "0f380652-9b3d-445d-cb8d-69ef0ba5dec0"
      },
      "outputs": [
        {
          "output_type": "display_data",
          "data": {
            "text/plain": [
              "<Figure size 432x288 with 1 Axes>"
            ],
            "image/png": "[encoded data removed]"
          },
          "metadata": {
            "needs_background": "light"
          }
        }
      ],
      "source": [
        "sitreps_positive_dist = [sum(row[1:]) for row in sitreps_gt_features if row[0]==1]\n",
        "sitreps_negative_dist = [sum(row[1:]) for row in sitreps_gt_features if row[0]==0]\n",
        "import matplotlib.pyplot as plt\n",
        "plt.hist(sitreps_positive_dist)\n",
        "plt.xlabel('Number of rules')\n",
        "plt.ylabel('Number of correctly-identified relations')\n",
        "plt.title('Distribution of relations based on SITREPs ground truth data')\n",
        "#plt.show()\n",
        "plt.savefig(\"sitreps_positive_dist.pdf\")"
      ],
      "id": "ZlQDgV6UWJK2"
    },
    {
      "cell_type": "code",
      "execution_count": null,
      "metadata": {
        "id": "2GWTuuVpX-FQ",
        "colab": {
          "base_uri": "https://localhost:8080/",
          "height": 295
        },
        "outputId": "3a971b18-268b-4b03-a16a-5c239cbd4c44"
      },
      "outputs": [
        {
          "output_type": "display_data",
          "data": {
            "text/plain": [
              "<Figure size 432x288 with 1 Axes>"
            ],
            "image/png": "[encoded data removed]"
          },
          "metadata": {
            "needs_background": "light"
          }
        }
      ],
      "source": [
        "plt.hist(sitreps_negative_dist)\n",
        "plt.xlabel('Number of rules')\n",
        "plt.ylabel('Number of incorrectly-identified relations')\n",
        "plt.title('Distribution of relations based on SITREPs ground truth data')\n",
        "#plt.show()\n",
        "plt.savefig(\"sitreps_negative_dist.pdf\")"
      ],
      "id": "2GWTuuVpX-FQ"
    },
    {
      "cell_type": "code",
      "execution_count": null,
      "metadata": {
        "id": "yloPQtBqaDGn"
      },
      "outputs": [],
      "source": [
        "#gt_features_df = pd.DataFrame(gt_features, columns=[\"gt\", \"dep1\", \"dep2\", \"dep3\", \"const1\", \"const2\", \"const3\", \"co_dist\", \"dep_dist\"])\n",
        "sitreps_gt_features_df = pd.DataFrame(sitreps_gt_features, columns=[\"gt\", \"dep1\", \"dep2\", \"dep3\", \"const1\", \"const2\", \"const3\", \"co_dist\", \"dep_dist\"])"
      ],
      "id": "yloPQtBqaDGn"
    },
    {
      "cell_type": "code",
      "execution_count": null,
      "metadata": {
        "id": "mJlP3l3qabHw"
      },
      "outputs": [],
      "source": [
        "sitreps_gt_features_df.to_csv('gt_features.csv')"
      ],
      "id": "mJlP3l3qabHw"
    },
    {
      "cell_type": "code",
      "execution_count": null,
      "metadata": {
        "id": "qqlk0E_2anJH",
        "colab": {
          "base_uri": "https://localhost:8080/"
        },
        "outputId": "d5d2e2bd-1d5f-4041-e2f7-db0671e9ab21"
      },
      "outputs": [
        {
          "output_type": "execute_result",
          "data": {
            "text/plain": [
              "((1033, 8), (259, 8))"
            ]
          },
          "metadata": {},
          "execution_count": 38
        }
      ],
      "source": [
        "from sklearn.model_selection import train_test_split\n",
        "X = sitreps_gt_features_df.drop([\"gt\"], axis=1)\n",
        "y = sitreps_gt_features_df[\"gt\"]\n",
        "X_train, X_test, y_train, y_test = train_test_split(X, y, test_size = 0.2, random_state = 0)\n",
        "X_train.shape, X_test.shape"
      ],
      "id": "qqlk0E_2anJH"
    },
    {
      "cell_type": "code",
      "execution_count": null,
      "metadata": {
        "id": "9XBqFoa_aytg",
        "colab": {
          "base_uri": "https://localhost:8080/"
        },
        "outputId": "4fadd010-e02b-405b-d8c2-29363a656539"
      },
      "outputs": [
        {
          "output_type": "stream",
          "name": "stdout",
          "text": [
            "Model accuracy score with default hyperparameters: 0.8340\n",
            "Model Precision score with default hyperparameters: 0.8626\n",
            "Model Recall score with default hyperparameters: 0.8971\n"
          ]
        }
      ],
      "source": [
        "# import SVC classifier\n",
        "from sklearn.svm import SVC\n",
        "# import metrics to compute accuracy\n",
        "from sklearn.metrics import accuracy_score, precision_score, recall_score, confusion_matrix, classification_report\n",
        "# instantiate classifier with default hyperparameters\n",
        "sitreps_svc=SVC()\n",
        "\n",
        "# fit classifier to training set\n",
        "sitreps_svc.fit(X_train,y_train)\n",
        "\n",
        "# make predictions on test set\n",
        "y_pred=sitreps_svc.predict(X_test)\n",
        "\n",
        "print('Model accuracy score with default hyperparameters: {0:0.4f}'. format(accuracy_score(y_test, y_pred)))\n",
        "print('Model Precision score with default hyperparameters: {0:0.4f}'. format(precision_score(y_test, y_pred)))\n",
        "print('Model Recall score with default hyperparameters: {0:0.4f}'. format(recall_score(y_test, y_pred)))\n"
      ],
      "id": "9XBqFoa_aytg"
    },
    {
      "cell_type": "code",
      "execution_count": null,
      "metadata": {
        "id": "UabOtGoqkOS3",
        "colab": {
          "base_uri": "https://localhost:8080/"
        },
        "outputId": "1f1cf58f-dae4-4ca5-c8d0-bf28675015e8"
      },
      "outputs": [
        {
          "output_type": "execute_result",
          "data": {
            "text/plain": [
              "array([0.86923077, 0.91538462, 0.89922481, 0.94573643, 0.8372093 ,\n",
              "       0.92248062, 0.84496124, 0.84496124, 0.76744186, 0.69767442])"
            ]
          },
          "metadata": {},
          "execution_count": 40
        }
      ],
      "source": [
        "from sklearn.model_selection import cross_val_score\n",
        "import numpy as np\n",
        "scores = cross_val_score(sitreps_svc, X, y, cv=10)\n",
        "scores"
      ],
      "id": "UabOtGoqkOS3"
    },
    {
      "cell_type": "code",
      "execution_count": null,
      "metadata": {
        "id": "jFnuQyhmlz8j",
        "colab": {
          "base_uri": "https://localhost:8080/"
        },
        "outputId": "4ccc5748-d2d4-4265-80c8-d926c59469c3"
      },
      "outputs": [
        {
          "output_type": "stream",
          "name": "stdout",
          "text": [
            "0.85 accuracy with a standard deviation of 0.07\n"
          ]
        }
      ],
      "source": [
        "print(\"%0.2f accuracy with a standard deviation of %0.2f\" % (scores.mean(), scores.std()))"
      ],
      "id": "jFnuQyhmlz8j"
    },
    {
      "cell_type": "code",
      "execution_count": null,
      "metadata": {
        "id": "gKcC-jjZmNRr",
        "colab": {
          "base_uri": "https://localhost:8080/"
        },
        "outputId": "b81a7204-e5a2-46eb-8fdb-28133c061971"
      },
      "outputs": [
        {
          "output_type": "stream",
          "name": "stdout",
          "text": [
            "Recall 0.9017088174982911 [0.94805195 0.88311688 0.87012987 0.86842105 0.90789474 0.92105263\n",
            " 0.90789474 0.90789474 0.92105263 0.88157895]\n",
            "Precision 0.929131485129937 [0.96052632 0.94444444 0.98529412 0.91666667 0.90789474 0.90909091\n",
            " 0.90789474 0.90789474 0.92105263 0.93055556]\n",
            "F1 0.9148204794041025 [0.95424837 0.91275168 0.92413793 0.89189189 0.90789474 0.91503268\n",
            " 0.90789474 0.90789474 0.92105263 0.90540541]\n"
          ]
        }
      ],
      "source": [
        "recall = cross_val_score(sitreps_svc, X_train, y_train, cv=10, scoring='recall')\n",
        "print('Recall', np.mean(recall), recall)\n",
        "precision = cross_val_score(sitreps_svc, X_train, y_train, cv=10, scoring='precision')\n",
        "print('Precision', np.mean(precision), precision)\n",
        "f1 = cross_val_score(sitreps_svc, X_train, y_train, cv=10, scoring='f1')\n",
        "print('F1', np.mean(f1), f1)"
      ],
      "id": "gKcC-jjZmNRr"
    },
    {
      "cell_type": "code",
      "execution_count": null,
      "metadata": {
        "id": "9NtK0NiFdOGK",
        "colab": {
          "base_uri": "https://localhost:8080/"
        },
        "outputId": "3542824e-38f1-4840-d727-4e10e119b36e"
      },
      "outputs": [
        {
          "output_type": "stream",
          "name": "stdout",
          "text": [
            "              precision    recall  f1-score   support\n",
            "\n",
            "           0       0.77      0.70      0.73        84\n",
            "           1       0.86      0.90      0.88       175\n",
            "\n",
            "    accuracy                           0.83       259\n",
            "   macro avg       0.81      0.80      0.81       259\n",
            "weighted avg       0.83      0.83      0.83       259\n",
            "\n"
          ]
        }
      ],
      "source": [
        "print(classification_report(y_test, y_pred))"
      ],
      "id": "9NtK0NiFdOGK"
    },
    {
      "cell_type": "code",
      "execution_count": null,
      "metadata": {
        "id": "S_l1qNVsneAI"
      },
      "outputs": [],
      "source": [
        "## Random Forest classifier\n",
        "from sklearn.ensemble import RandomForestClassifier\n",
        "clf = RandomForestClassifier(n_estimators = 100)\n",
        "clf.fit(X_train, y_train)\n",
        "y_pred_rf = clf.predict(X_test)"
      ],
      "id": "S_l1qNVsneAI"
    },
    {
      "cell_type": "code",
      "execution_count": null,
      "metadata": {
        "colab": {
          "base_uri": "https://localhost:8080/"
        },
        "id": "5Qvh6Nmhn9or",
        "outputId": "6b8df07e-8731-4a86-9a06-cc980b203aa4"
      },
      "outputs": [
        {
          "output_type": "stream",
          "name": "stdout",
          "text": [
            "Recall 0.8990772385509228 [0.94805195 0.88311688 0.87012987 0.86842105 0.90789474 0.92105263\n",
            " 0.90789474 0.90789474 0.90789474 0.86842105]\n",
            "Precision 0.92892841289536 [0.96052632 0.94444444 0.98529412 0.91666667 0.90789474 0.90909091\n",
            " 0.90789474 0.90789474 0.92       0.92957746]\n",
            "F1 0.9133613225498355 [0.95424837 0.91275168 0.92413793 0.89189189 0.90789474 0.91503268\n",
            " 0.90789474 0.90789474 0.91390728 0.89795918]\n"
          ]
        }
      ],
      "source": [
        "recall = cross_val_score(clf, X_train, y_train, cv=10, scoring='recall')\n",
        "print('Recall', np.mean(recall), recall)\n",
        "precision = cross_val_score(clf, X_train, y_train, cv=10, scoring='precision')\n",
        "print('Precision', np.mean(precision), precision)\n",
        "f1 = cross_val_score(clf, X_train, y_train, cv=10, scoring='f1')\n",
        "print('F1', np.mean(f1), f1)"
      ],
      "id": "5Qvh6Nmhn9or"
    },
    {
      "cell_type": "markdown",
      "metadata": {
        "id": "Dc7duSTHbFSh"
      },
      "source": [
        "# Tweets"
      ],
      "id": "Dc7duSTHbFSh"
    },
    {
      "cell_type": "code",
      "execution_count": null,
      "metadata": {
        "id": "emBSZM8KSWgR"
      },
      "outputs": [],
      "source": [
        "def rule_9(dep):\n",
        "    if len(dep)>=2 and len(dep)<=4:\n",
        "        if len(set(dep))==1 and dep[0]==\"PROPN\":\n",
        "            return 1\n",
        "    return 0\n",
        "\n",
        "# def rule_10(dep):\n",
        "#     if \"VERB\" in dep:\n",
        "#         return 1\n",
        "#     return 0\n",
        "\n",
        "def rule_10(dep):\n",
        "    ptn = [\"VERB\", \"ADP\"]\n",
        "    if ptn[0] in dep or ptn[1] in dep or \" \".join(ptn) in \" \".join(dep):\n",
        "        return 1\n",
        "    return 0\n",
        "\n",
        "def rule_11(dep):\n",
        "    if \"NOUN\" in dep:\n",
        "        return 1\n",
        "    return 0\n",
        "\n",
        "# def rule_11(dep):\n",
        "#     ptn = [\"NOUN\",\"ADP\"]\n",
        "#     if \" \".join(ptn) in \" \".join(dep):\n",
        "#         return 1\n",
        "#     return 0\n",
        "\n",
        "def rule_12(const):\n",
        "    if len(const)>=1 and len(const)<=3:\n",
        "        if len(set(const))==1 and const[0]==\"PROPN\":\n",
        "            return 1\n",
        "    return 0\n",
        "\n",
        "def rule_13(const):\n",
        "    ptn = [\"VERB\", \"ADP\"]\n",
        "    if ptn[0] in const or ptn[1] in const or \" \".join(ptn) in \" \".join(const):\n",
        "        return 1\n",
        "    return 0\n",
        "\n",
        "def rule_14(const):\n",
        "    ptn = [\"NOUN\", \"ADP\"]\n",
        "    if \" \".join(ptn) in \" \".join(const):\n",
        "        return 1\n",
        "    return 0\n",
        "\n",
        "def rule_15(co_dist):\n",
        "    if co_dist in [1, 3, 4, 2, 0]:\n",
        "        return 1\n",
        "    return 0\n",
        "\n",
        "def rule_16(dep_dist):\n",
        "    if dep_dist in [3, 4, 5, 2, 6]:\n",
        "        return 1\n",
        "    return 0"
      ],
      "id": "emBSZM8KSWgR"
    },
    {
      "cell_type": "code",
      "execution_count": null,
      "metadata": {
        "id": "tuggYPD6Up5t"
      },
      "outputs": [],
      "source": [
        "# for gt data\n",
        "tweets_tagged_tokens_path = \"/content/drive/MyDrive/01-Research/Geo-Isa/code/Relex/april_16/tweets_tagged_tokens.csv\"\n",
        "tweets_gt_relations_path = \"/content/drive/MyDrive/01-Research/Geo-Isa/code/Relex/april_16/tweets_gt_relations.csv\"\n",
        "tweets_tagged_tokens = pd.read_csv(tweets_tagged_tokens_path, keep_default_na=False, dtype={'human_annotation_ent_id': str}).values.tolist()\n",
        "tweets_gt_relations = pd.read_csv(tweets_gt_relations_path, keep_default_na=False).values.tolist()\n",
        "\n",
        "tweets_potential_rels = tagged_tokens_2_rels(tweets_tagged_tokens)\n",
        "\n",
        "gt_tf_table = defaultdict(lambda: {})\n",
        "for gt_rel in tweets_gt_relations:\n",
        "    gt_tf_table[gt_rel[0]][frozenset([gt_rel[7], gt_rel[8]])] = gt_rel[2]\n",
        "\n",
        "for rel in tweets_potential_rels:\n",
        "    if frozenset([rel[7], rel[8]]) in gt_tf_table[rel[0]].keys():\n",
        "        gt_rel_type = gt_tf_table[rel[0]][frozenset([rel[7], rel[8]])]\n",
        "    else:\n",
        "        gt_rel_type = \"no_relation\"\n",
        "\n",
        "    rel[2] = gt_rel_type\n",
        "\n",
        "tweets_gt_relations = tweets_potential_rels\n"
      ],
      "id": "tuggYPD6Up5t"
    },
    {
      "cell_type": "code",
      "execution_count": null,
      "metadata": {
        "colab": {
          "base_uri": "https://localhost:8080/"
        },
        "id": "IOmYlNnsMstr",
        "outputId": "0e09bf44-597a-4322-9e72-4c5309fd2e3d"
      },
      "outputs": [
        {
          "output_type": "execute_result",
          "data": {
            "text/plain": [
              "[0,\n",
              " 'Hurricane Matthew : Weather service issues dire warning https://t.co/i1TP8NjpK9 https://t.co/HmULChCqsC',\n",
              " 'no_relation',\n",
              " 'Hurricane Matthew',\n",
              " 'Weather service',\n",
              " 'LOC',\n",
              " 'ORG',\n",
              " '0.0',\n",
              " '1.0',\n",
              " ':',\n",
              " 'no_path_found',\n",
              " 'no_path_found',\n",
              " 'no_path_found',\n",
              " ['PUNCT']]"
            ]
          },
          "metadata": {},
          "execution_count": 26
        }
      ],
      "source": [
        "tweets_gt_relations[0]"
      ],
      "id": "IOmYlNnsMstr"
    },
    {
      "cell_type": "code",
      "execution_count": null,
      "metadata": {
        "colab": {
          "base_uri": "https://localhost:8080/",
          "height": 482
        },
        "id": "2j7UOifbbv1A",
        "outputId": "1616dce0-c954-4922-95a0-e02278f3e448"
      },
      "outputs": [
        {
          "output_type": "execute_result",
          "data": {
            "text/plain": [
              "(array([  1.,  85.,   0.,  35.,   0., 131., 228.,   0., 161.,  43.]),\n",
              " array([0. , 0.6, 1.2, 1.8, 2.4, 3. , 3.6, 4.2, 4.8, 5.4, 6. ]),\n",
              " <BarContainer object of 10 artists>)"
            ]
          },
          "metadata": {},
          "execution_count": 27
        },
        {
          "output_type": "display_data",
          "data": {
            "text/plain": [
              "<Figure size 640x480 with 1 Axes>"
            ],
            "image/png": "[encoded data removed]"
          },
          "metadata": {}
        }
      ],
      "source": [
        "def tweets_features(tweets_gt_relations):\n",
        "    tweets_gt_features = []\n",
        "    for gt_rel in tweets_gt_relations:\n",
        "        co_dist = len(gt_rel[9].split(\" \"))\n",
        "        dep_dist = gt_rel[10]\n",
        "        dep = gt_rel[12]\n",
        "        const = gt_rel[13]\n",
        "        tweets_gt_features.append([\n",
        "            rule_0(gt_rel[2]), rule_9(dep), rule_10(dep), rule_11(dep), rule_12(const), rule_13(const), rule_14(const), rule_15(co_dist), rule_16(dep_dist)\n",
        "        ])\n",
        "    return tweets_gt_features\n",
        "tweets_gt_features = tweets_features(tweets_gt_relations)\n",
        "tweets_positive_dist = [sum(row[1:]) for row in tweets_gt_features if row[0]==1]\n",
        "tweets_negative_dist = [sum(row[1:]) for row in tweets_gt_features if row[0]==0]\n",
        "import matplotlib.pyplot as plt\n",
        "plt.hist(tweets_positive_dist)"
      ],
      "id": "2j7UOifbbv1A"
    },
    {
      "cell_type": "code",
      "execution_count": null,
      "metadata": {
        "colab": {
          "base_uri": "https://localhost:8080/",
          "height": 488
        },
        "id": "9qV68armLn1v",
        "outputId": "4af1d07a-154c-4b2d-fda6-9742824e76c3"
      },
      "outputs": [
        {
          "output_type": "execute_result",
          "data": {
            "text/plain": [
              "(array([ 21., 573.,   0., 121.,   0.,  63.,  66.,   0.,  35.,   4.]),\n",
              " array([0. , 0.6, 1.2, 1.8, 2.4, 3. , 3.6, 4.2, 4.8, 5.4, 6. ]),\n",
              " <BarContainer object of 10 artists>)"
            ]
          },
          "metadata": {},
          "execution_count": 16
        },
        {
          "output_type": "display_data",
          "data": {
            "text/plain": [
              "<Figure size 640x480 with 1 Axes>"
            ],
            "image/png": "[encoded data removed]"
          },
          "metadata": {}
        }
      ],
      "source": [
        "plt.hist(tweets_negative_dist)"
      ],
      "id": "9qV68armLn1v"
    },
    {
      "cell_type": "code",
      "execution_count": null,
      "metadata": {
        "id": "ghrsII6kcKQe"
      },
      "outputs": [],
      "source": [
        "tweets_gt_features_df = pd.DataFrame(tweets_gt_features, columns=[\"gt\", \"dep1\", \"dep2\", \"dep3\", \"const1\", \"const2\", \"const3\", \"co_dist\", \"dep_dist\"])"
      ],
      "id": "ghrsII6kcKQe"
    },
    {
      "cell_type": "code",
      "execution_count": null,
      "metadata": {
        "colab": {
          "base_uri": "https://localhost:8080/"
        },
        "id": "m-BByH_tcKHE",
        "outputId": "f2a7a3b5-6118-48a5-f9b6-f0a0792c3375"
      },
      "outputs": [
        {
          "output_type": "execute_result",
          "data": {
            "text/plain": [
              "((1253, 8), (314, 8))"
            ]
          },
          "metadata": {},
          "execution_count": 18
        }
      ],
      "source": [
        "from sklearn.model_selection import train_test_split\n",
        "X = tweets_gt_features_df.drop([\"gt\"], axis=1)\n",
        "y = tweets_gt_features_df[\"gt\"]\n",
        "X_train, X_test, y_train, y_test = train_test_split(X, y, test_size = 0.2, random_state = 0)\n",
        "X_train.shape, X_test.shape"
      ],
      "id": "m-BByH_tcKHE"
    },
    {
      "cell_type": "code",
      "execution_count": null,
      "metadata": {
        "colab": {
          "base_uri": "https://localhost:8080/"
        },
        "id": "WAevFt-YcRiB",
        "outputId": "7e01f14f-4836-41f0-c941-c1f2aeacee56"
      },
      "outputs": [
        {
          "output_type": "stream",
          "name": "stdout",
          "text": [
            "Model accuracy score with default hyperparameters: 0.8057\n",
            "Model Precision score with default hyperparameters: 0.7736\n",
            "Model Recall score with default hyperparameters: 0.8311\n"
          ]
        }
      ],
      "source": [
        "from sklearn.svm import SVC\n",
        "# import metrics to compute accuracy\n",
        "from sklearn.metrics import accuracy_score, precision_score, recall_score, confusion_matrix, classification_report\n",
        "\n",
        "tweets_svc=SVC()\n",
        "\n",
        "# fit classifier to training set\n",
        "tweets_svc.fit(X_train,y_train)\n",
        "\n",
        "# make predictions on test set\n",
        "y_pred=tweets_svc.predict(X_test)\n",
        "\n",
        "# compute and print accuracy score\n",
        "print('Model accuracy score with default hyperparameters: {0:0.4f}'. format(accuracy_score(y_test, y_pred)))\n",
        "print('Model Precision score with default hyperparameters: {0:0.4f}'. format(precision_score(y_test, y_pred)))\n",
        "print('Model Recall score with default hyperparameters: {0:0.4f}'. format(recall_score(y_test, y_pred)))\n"
      ],
      "id": "WAevFt-YcRiB"
    },
    {
      "cell_type": "code",
      "execution_count": null,
      "metadata": {
        "id": "CZR8NJFtNmFV"
      },
      "outputs": [],
      "source": [
        "# Two models: tweets_svc, sitreps_svc"
      ],
      "id": "CZR8NJFtNmFV"
    },
    {
      "cell_type": "code",
      "execution_count": null,
      "metadata": {
        "colab": {
          "base_uri": "https://localhost:8080/",
          "height": 250
        },
        "id": "jG58ROfVpVmi",
        "outputId": "2e479290-37c4-471d-9af9-eef7eed1c849"
      },
      "outputs": [
        {
          "output_type": "error",
          "ename": "NameError",
          "evalue": "ignored",
          "traceback": [
            "\u001b[0;31m---------------------------------------------------------------------------\u001b[0m",
            "\u001b[0;31mNameError\u001b[0m                                 Traceback (most recent call last)",
            "\u001b[0;32m<ipython-input-20-8d16830b8b30>\u001b[0m in \u001b[0;36m<cell line: 1>\u001b[0;34m()\u001b[0m\n\u001b[0;32m----> 1\u001b[0;31m \u001b[0mrecall\u001b[0m \u001b[0;34m=\u001b[0m \u001b[0mcross_val_score\u001b[0m\u001b[0;34m(\u001b[0m\u001b[0mtweets_svc\u001b[0m\u001b[0;34m,\u001b[0m \u001b[0mX_train\u001b[0m\u001b[0;34m,\u001b[0m \u001b[0my_train\u001b[0m\u001b[0;34m,\u001b[0m \u001b[0mcv\u001b[0m\u001b[0;34m=\u001b[0m\u001b[0;36m10\u001b[0m\u001b[0;34m,\u001b[0m \u001b[0mscoring\u001b[0m\u001b[0;34m=\u001b[0m\u001b[0;34m'recall'\u001b[0m\u001b[0;34m)\u001b[0m\u001b[0;34m\u001b[0m\u001b[0;34m\u001b[0m\u001b[0m\n\u001b[0m\u001b[1;32m      2\u001b[0m \u001b[0mprint\u001b[0m\u001b[0;34m(\u001b[0m\u001b[0;34m'Recall'\u001b[0m\u001b[0;34m,\u001b[0m \u001b[0mnp\u001b[0m\u001b[0;34m.\u001b[0m\u001b[0mmean\u001b[0m\u001b[0;34m(\u001b[0m\u001b[0mrecall\u001b[0m\u001b[0;34m)\u001b[0m\u001b[0;34m,\u001b[0m \u001b[0mrecall\u001b[0m\u001b[0;34m)\u001b[0m\u001b[0;34m\u001b[0m\u001b[0;34m\u001b[0m\u001b[0m\n\u001b[1;32m      3\u001b[0m \u001b[0mprecision\u001b[0m \u001b[0;34m=\u001b[0m \u001b[0mcross_val_score\u001b[0m\u001b[0;34m(\u001b[0m\u001b[0mtweets_svc\u001b[0m\u001b[0;34m,\u001b[0m \u001b[0mX_train\u001b[0m\u001b[0;34m,\u001b[0m \u001b[0my_train\u001b[0m\u001b[0;34m,\u001b[0m \u001b[0mcv\u001b[0m\u001b[0;34m=\u001b[0m\u001b[0;36m10\u001b[0m\u001b[0;34m,\u001b[0m \u001b[0mscoring\u001b[0m\u001b[0;34m=\u001b[0m\u001b[0;34m'precision'\u001b[0m\u001b[0;34m)\u001b[0m\u001b[0;34m\u001b[0m\u001b[0;34m\u001b[0m\u001b[0m\n\u001b[1;32m      4\u001b[0m \u001b[0mprint\u001b[0m\u001b[0;34m(\u001b[0m\u001b[0;34m'Precision'\u001b[0m\u001b[0;34m,\u001b[0m \u001b[0mnp\u001b[0m\u001b[0;34m.\u001b[0m\u001b[0mmean\u001b[0m\u001b[0;34m(\u001b[0m\u001b[0mprecision\u001b[0m\u001b[0;34m)\u001b[0m\u001b[0;34m,\u001b[0m \u001b[0mprecision\u001b[0m\u001b[0;34m)\u001b[0m\u001b[0;34m\u001b[0m\u001b[0;34m\u001b[0m\u001b[0m\n\u001b[1;32m      5\u001b[0m \u001b[0mf1\u001b[0m \u001b[0;34m=\u001b[0m \u001b[0mcross_val_score\u001b[0m\u001b[0;34m(\u001b[0m\u001b[0mtweets_svc\u001b[0m\u001b[0;34m,\u001b[0m \u001b[0mX_train\u001b[0m\u001b[0;34m,\u001b[0m \u001b[0my_train\u001b[0m\u001b[0;34m,\u001b[0m \u001b[0mcv\u001b[0m\u001b[0;34m=\u001b[0m\u001b[0;36m10\u001b[0m\u001b[0;34m,\u001b[0m \u001b[0mscoring\u001b[0m\u001b[0;34m=\u001b[0m\u001b[0;34m'f1'\u001b[0m\u001b[0;34m)\u001b[0m\u001b[0;34m\u001b[0m\u001b[0;34m\u001b[0m\u001b[0m\n",
            "\u001b[0;31mNameError\u001b[0m: name 'cross_val_score' is not defined"
          ]
        }
      ],
      "source": [
        "recall = cross_val_score(tweets_svc, X_train, y_train, cv=10, scoring='recall')\n",
        "print('Recall', np.mean(recall), recall)\n",
        "precision = cross_val_score(tweets_svc, X_train, y_train, cv=10, scoring='precision')\n",
        "print('Precision', np.mean(precision), precision)\n",
        "f1 = cross_val_score(tweets_svc, X_train, y_train, cv=10, scoring='f1')\n",
        "print('F1', np.mean(f1), f1)"
      ],
      "id": "jG58ROfVpVmi"
    },
    {
      "cell_type": "code",
      "execution_count": null,
      "metadata": {
        "id": "1XN7k1n9pf2y"
      },
      "outputs": [],
      "source": [
        "## Random Forest classifier\n",
        "from sklearn.ensemble import RandomForestClassifier\n",
        "clf = RandomForestClassifier(n_estimators = 100)\n",
        "clf.fit(X_train, y_train)\n",
        "y_pred_rf = clf.predict(X_test)"
      ],
      "id": "1XN7k1n9pf2y"
    },
    {
      "cell_type": "markdown",
      "source": [
        "## Pipeline for automatic entity & relation extraction for raw text data"
      ],
      "metadata": {
        "id": "Bb2lhtGM3k9O"
      },
      "id": "Bb2lhtGM3k9O"
    },
    {
      "cell_type": "markdown",
      "metadata": {
        "id": "3cDQ6GsVQqCL"
      },
      "source": [
        "# ner results"
      ],
      "id": "3cDQ6GsVQqCL"
    },
    {
      "cell_type": "code",
      "execution_count": null,
      "metadata": {
        "id": "7074b77a"
      },
      "outputs": [],
      "source": [
        "# from raw text to tagged tokens\n",
        "# unite or intersect different tagged tokens results\n",
        "raw_text = \"/content/drive/MyDrive/01-Research/Geo-Isa/Coding/evaluation-1600-annotated-tweets.txt\"\n",
        "with open(raw_text) as f:\n",
        "    data = f.readlines()"
      ],
      "id": "7074b77a"
    },
    {
      "cell_type": "code",
      "execution_count": null,
      "metadata": {
        "id": "bf80f3d2"
      },
      "outputs": [],
      "source": [
        "flairner = FlairNER(data)\n",
        "sents = data\n",
        "#sents = flairner.sentence_segmentation()"
      ],
      "id": "bf80f3d2"
    },
    {
      "cell_type": "code",
      "execution_count": null,
      "metadata": {
        "colab": {
          "base_uri": "https://localhost:8080/"
        },
        "id": "72e9300c",
        "outputId": "6adad959-ee9f-4a16-8ee1-b4b7a00d0ca0"
      },
      "outputs": [
        {
          "output_type": "stream",
          "name": "stderr",
          "text": [
            "100%|██████████| 1672/1672 [00:35<00:00, 46.45it/s]\n"
          ]
        }
      ],
      "source": [
        "flair_tts, flair_rels = flairner.generate_tokens_n_rels(sents[:])"
      ],
      "id": "72e9300c"
    },
    {
      "cell_type": "code",
      "execution_count": null,
      "metadata": {
        "id": "TM5VNsQQPXZ0",
        "colab": {
          "base_uri": "https://localhost:8080/",
          "height": 36
        },
        "outputId": "830755c8-84be-4681-b3a5-ce4bb4c07176"
      },
      "outputs": [
        {
          "output_type": "execute_result",
          "data": {
            "text/plain": [
              "'Sevier County Tennessee, picture colored by me.\\n'"
            ],
            "application/vnd.google.colaboratory.intrinsic+json": {
              "type": "string"
            }
          },
          "metadata": {},
          "execution_count": 14
        }
      ],
      "source": [
        "sents[12]"
      ],
      "id": "TM5VNsQQPXZ0"
    },
    {
      "cell_type": "code",
      "execution_count": null,
      "metadata": {
        "id": "L2qAQrK8bN58"
      },
      "outputs": [],
      "source": [
        "spacyner = SpacyNER(data)"
      ],
      "id": "L2qAQrK8bN58"
    },
    {
      "cell_type": "code",
      "source": [
        "spacy_tts, spacy_rels = spacyner.generate_tokens_n_rels(sents[:])"
      ],
      "metadata": {
        "colab": {
          "base_uri": "https://localhost:8080/"
        },
        "id": "dwR8Wg5XWMKA",
        "outputId": "1484dcea-ba3c-4de6-e683-dce4a227d36a"
      },
      "id": "dwR8Wg5XWMKA",
      "execution_count": null,
      "outputs": [
        {
          "output_type": "stream",
          "name": "stderr",
          "text": [
            "100%|██████████| 1672/1672 [00:14<00:00, 117.87it/s]\n"
          ]
        }
      ]
    },
    {
      "cell_type": "code",
      "execution_count": null,
      "metadata": {
        "id": "Xw5s4qpbi0oH"
      },
      "outputs": [],
      "source": [
        "# experiment different combinations\n",
        "s_f_i = spacy_flair_intersection(spacy_tts, flair_tts)\n",
        "#s_f_u = spacy_flair_union(spacy_tts, flair_tts)"
      ],
      "id": "Xw5s4qpbi0oH"
    },
    {
      "cell_type": "code",
      "execution_count": null,
      "metadata": {
        "id": "O0t_gnq5jEHM"
      },
      "outputs": [],
      "source": [
        "s_f_intersection = pd.DataFrame(s_f_i).to_csv('geoisa_tweets_coded_evaluation_1600_flair_spacy_intersection.csv')\n",
        "spacy_df = pd.DataFrame(spacy_tts).to_csv('geoisa_tweets_coded_spacy.csv')"
      ],
      "id": "O0t_gnq5jEHM"
    },
    {
      "cell_type": "markdown",
      "metadata": {
        "id": "aGNT_MaXHOz5"
      },
      "source": [
        "# Unseen data analysis"
      ],
      "id": "aGNT_MaXHOz5"
    },
    {
      "cell_type": "code",
      "execution_count": null,
      "metadata": {
        "id": "23a2f404"
      },
      "outputs": [],
      "source": [
        "# from tagged tokens to network\n",
        "irma_tokens_path = \"/content/geoisa_tweets_coded_evaluation_1600_flair_spacy_intersection.csv\"\n",
        "irma_tokens = pd.read_csv(irma_tokens_path, keep_default_na=False, index_col=False).values.tolist()\n",
        "irma_tokens = [row[1:] for row in irma_tokens]"
      ],
      "id": "23a2f404"
    },
    {
      "cell_type": "code",
      "execution_count": null,
      "metadata": {
        "colab": {
          "base_uri": "https://localhost:8080/"
        },
        "id": "90uJHDUaOKxh",
        "outputId": "b4a34929-4a89-4e86-dd93-ced804e5cb45"
      },
      "outputs": [
        {
          "output_type": "execute_result",
          "data": {
            "text/plain": [
              "[[0,\n",
              "  'Colorado Springs and most of El Paso County will start the week under a freeze warning Monday , according to the National Weather Service in Pueblo . \\n',\n",
              "  '',\n",
              "  'Colorado Springs',\n",
              "  'El Paso County',\n",
              "  'GPE',\n",
              "  'GPE',\n",
              "  '0_0',\n",
              "  '0_1',\n",
              "  'and most of',\n",
              "  2,\n",
              "  [3, 4],\n",
              "  ['ADJ', 'ADP'],\n",
              "  ['CCONJ', 'ADJ', 'ADP']],\n",
              " [0,\n",
              "  'Colorado Springs and most of El Paso County will start the week under a freeze warning Monday , according to the National Weather Service in Pueblo . \\n',\n",
              "  '',\n",
              "  'Colorado Springs',\n",
              "  'the National Weather Service',\n",
              "  'GPE',\n",
              "  'ORG',\n",
              "  '0_0',\n",
              "  '0_4',\n",
              "  'and most of El Paso County will start the week under a freeze warning Monday , according to',\n",
              "  3,\n",
              "  [9, 18, 19],\n",
              "  ['VERB', 'VERB', 'ADP'],\n",
              "  ['CCONJ',\n",
              "   'ADJ',\n",
              "   'ADP',\n",
              "   'PROPN',\n",
              "   'PROPN',\n",
              "   'PROPN',\n",
              "   'AUX',\n",
              "   'VERB',\n",
              "   'DET',\n",
              "   'NOUN',\n",
              "   'ADP',\n",
              "   'DET',\n",
              "   'NOUN',\n",
              "   'NOUN',\n",
              "   'PROPN',\n",
              "   'PUNCT',\n",
              "   'VERB',\n",
              "   'ADP']],\n",
              " [0,\n",
              "  'Colorado Springs and most of El Paso County will start the week under a freeze warning Monday , according to the National Weather Service in Pueblo . \\n',\n",
              "  '',\n",
              "  'Colorado Springs',\n",
              "  'Pueblo',\n",
              "  'GPE',\n",
              "  'LOC_GPE',\n",
              "  '0_0',\n",
              "  '0_5',\n",
              "  'and most of El Paso County will start the week under a freeze warning Monday , according to the National Weather Service in',\n",
              "  5,\n",
              "  [9, 18, 19, 23, 24],\n",
              "  ['VERB', 'VERB', 'ADP', 'PROPN', 'ADP'],\n",
              "  ['CCONJ',\n",
              "   'ADJ',\n",
              "   'ADP',\n",
              "   'PROPN',\n",
              "   'PROPN',\n",
              "   'PROPN',\n",
              "   'AUX',\n",
              "   'VERB',\n",
              "   'DET',\n",
              "   'NOUN',\n",
              "   'ADP',\n",
              "   'DET',\n",
              "   'NOUN',\n",
              "   'NOUN',\n",
              "   'PROPN',\n",
              "   'PUNCT',\n",
              "   'VERB',\n",
              "   'ADP',\n",
              "   'DET',\n",
              "   'PROPN',\n",
              "   'PROPN',\n",
              "   'PROPN',\n",
              "   'ADP']],\n",
              " [0,\n",
              "  'Colorado Springs and most of El Paso County will start the week under a freeze warning Monday , according to the National Weather Service in Pueblo . \\n',\n",
              "  '',\n",
              "  'El Paso County',\n",
              "  'the National Weather Service',\n",
              "  'GPE',\n",
              "  'ORG',\n",
              "  '0_1',\n",
              "  '0_4',\n",
              "  'will start the week under a freeze warning Monday , according to',\n",
              "  6,\n",
              "  [4, 3, 1, 9, 18, 19],\n",
              "  ['ADP', 'ADJ', 'PROPN', 'VERB', 'VERB', 'ADP'],\n",
              "  ['AUX',\n",
              "   'VERB',\n",
              "   'DET',\n",
              "   'NOUN',\n",
              "   'ADP',\n",
              "   'DET',\n",
              "   'NOUN',\n",
              "   'NOUN',\n",
              "   'PROPN',\n",
              "   'PUNCT',\n",
              "   'VERB',\n",
              "   'ADP']],\n",
              " [0,\n",
              "  'Colorado Springs and most of El Paso County will start the week under a freeze warning Monday , according to the National Weather Service in Pueblo . \\n',\n",
              "  '',\n",
              "  'El Paso County',\n",
              "  'Pueblo',\n",
              "  'GPE',\n",
              "  'LOC_GPE',\n",
              "  '0_1',\n",
              "  '0_5',\n",
              "  'will start the week under a freeze warning Monday , according to the National Weather Service in',\n",
              "  8,\n",
              "  [4, 3, 1, 9, 18, 19, 23, 24],\n",
              "  ['ADP', 'ADJ', 'PROPN', 'VERB', 'VERB', 'ADP', 'PROPN', 'ADP'],\n",
              "  ['AUX',\n",
              "   'VERB',\n",
              "   'DET',\n",
              "   'NOUN',\n",
              "   'ADP',\n",
              "   'DET',\n",
              "   'NOUN',\n",
              "   'NOUN',\n",
              "   'PROPN',\n",
              "   'PUNCT',\n",
              "   'VERB',\n",
              "   'ADP',\n",
              "   'DET',\n",
              "   'PROPN',\n",
              "   'PROPN',\n",
              "   'PROPN',\n",
              "   'ADP']],\n",
              " [0,\n",
              "  'Colorado Springs and most of El Paso County will start the week under a freeze warning Monday , according to the National Weather Service in Pueblo . \\n',\n",
              "  '',\n",
              "  'the National Weather Service',\n",
              "  'Pueblo',\n",
              "  'ORG',\n",
              "  'LOC_GPE',\n",
              "  '0_4',\n",
              "  '0_5',\n",
              "  'in',\n",
              "  1,\n",
              "  [24],\n",
              "  ['ADP'],\n",
              "  ['ADP']],\n",
              " [1,\n",
              "  'My great - grandfather moved from Kentucky to Storm Lake , Buena Vista , Iowa in . \\n',\n",
              "  '',\n",
              "  'Iowa',\n",
              "  'Kentucky',\n",
              "  'GPE',\n",
              "  'GPE',\n",
              "  '1_3',\n",
              "  '1_0',\n",
              "  'to Storm Lake , Buena Vista ,',\n",
              "  5,\n",
              "  [12, 9, 7, 4, 5],\n",
              "  ['PROPN', 'PROPN', 'ADP', 'VERB', 'ADP'],\n",
              "  ['ADP', 'PROPN', 'PROPN', 'PUNCT', 'PROPN', 'PROPN', 'PUNCT']],\n",
              " [1,\n",
              "  'My great - grandfather moved from Kentucky to Storm Lake , Buena Vista , Iowa in . \\n',\n",
              "  '',\n",
              "  'Iowa',\n",
              "  'Buena Vista',\n",
              "  'GPE',\n",
              "  'GPE',\n",
              "  '1_3',\n",
              "  '1_2',\n",
              "  ',',\n",
              "  0,\n",
              "  [],\n",
              "  [],\n",
              "  ['PUNCT']],\n",
              " [1,\n",
              "  'My great - grandfather moved from Kentucky to Storm Lake , Buena Vista , Iowa in . \\n',\n",
              "  '',\n",
              "  'Kentucky',\n",
              "  'Buena Vista',\n",
              "  'GPE',\n",
              "  'GPE',\n",
              "  '1_0',\n",
              "  '1_2',\n",
              "  'to Storm Lake ,',\n",
              "  4,\n",
              "  [5, 4, 7, 9],\n",
              "  ['ADP', 'VERB', 'ADP', 'PROPN'],\n",
              "  ['ADP', 'PROPN', 'PROPN', 'PUNCT']],\n",
              " [2,\n",
              "  'With school soon to be back in session , we would like to take a moment to congratulate Trevor Beale of Caroline County who received a 1,000 scholarship from Virginia Sheriffs Institute ( VSI ) . \\n',\n",
              "  '',\n",
              "  'Trevor Beale',\n",
              "  'Caroline County',\n",
              "  'PERSON',\n",
              "  'GPE',\n",
              "  '2_0',\n",
              "  '2_1',\n",
              "  'of',\n",
              "  1,\n",
              "  [20],\n",
              "  ['ADP'],\n",
              "  ['ADP']]]"
            ]
          },
          "metadata": {},
          "execution_count": 20
        }
      ],
      "source": [
        "irma_tweets_rels = tagged_tokens_2_rels(irma_tokens)\n",
        "irma_tweets_rels[:10]"
      ],
      "id": "90uJHDUaOKxh"
    }
  ],
  "metadata": {
    "accelerator": "GPU",
    "colab": {
      "machine_shape": "hm",
      "provenance": [],
      "gpuType": "A100"
    },
    "kernelspec": {
      "display_name": "Python 3",
      "name": "python3"
    },
    "language_info": {
      "codemirror_mode": {
        "name": "ipython",
        "version": 3
      },
      "file_extension": ".py",
      "mimetype": "text/x-python",
      "name": "python",
      "nbconvert_exporter": "python",
      "pygments_lexer": "ipython3",
      "version": "3.9.9"
    },
    "widgets": {
      "application/vnd.jupyter.widget-state+json": {
        "ff9de319c7a74c8a86c3c6efe2cc4bd7": {
          "model_module": "@jupyter-widgets/controls",
          "model_name": "HBoxModel",
          "model_module_version": "1.5.0",
          "state": {
            "_dom_classes": [],
            "_model_module": "@jupyter-widgets/controls",
            "_model_module_version": "1.5.0",
            "_model_name": "HBoxModel",
            "_view_count": null,
            "_view_module": "@jupyter-widgets/controls",
            "_view_module_version": "1.5.0",
            "_view_name": "HBoxView",
            "box_style": "",
            "children": [
              "IPY_MODEL_8bd43abf2f8e4bbe9a6237b2bc14080c",
              "IPY_MODEL_04775241c3144adf8554a28f80da2228",
              "IPY_MODEL_9593b77599724d2091227f64286e29ea"
            ],
            "layout": "IPY_MODEL_aa41c0511d0c48458ec2f886aa45273c"
          }
        },
        "8bd43abf2f8e4bbe9a6237b2bc14080c": {
          "model_module": "@jupyter-widgets/controls",
          "model_name": "HTMLModel",
          "model_module_version": "1.5.0",
          "state": {
            "_dom_classes": [],
            "_model_module": "@jupyter-widgets/controls",
            "_model_module_version": "1.5.0",
            "_model_name": "HTMLModel",
            "_view_count": null,
            "_view_module": "@jupyter-widgets/controls",
            "_view_module_version": "1.5.0",
            "_view_name": "HTMLView",
            "description": "",
            "description_tooltip": null,
            "layout": "IPY_MODEL_6568eda2ff3743348969ff6f79e677de",
            "placeholder": "​",
            "style": "IPY_MODEL_22dbc761234c4d97a4138eebb6a94639",
            "value": "pytorch_model.bin: 100%"
          }
        },
        "04775241c3144adf8554a28f80da2228": {
          "model_module": "@jupyter-widgets/controls",
          "model_name": "FloatProgressModel",
          "model_module_version": "1.5.0",
          "state": {
            "_dom_classes": [],
            "_model_module": "@jupyter-widgets/controls",
            "_model_module_version": "1.5.0",
            "_model_name": "FloatProgressModel",
            "_view_count": null,
            "_view_module": "@jupyter-widgets/controls",
            "_view_module_version": "1.5.0",
            "_view_name": "ProgressView",
            "bar_style": "success",
            "description": "",
            "description_tooltip": null,
            "layout": "IPY_MODEL_3dd669eb148e4f2ab852344b6657a202",
            "max": 1296173892,
            "min": 0,
            "orientation": "horizontal",
            "style": "IPY_MODEL_66993eb7d9824b5bb5ed33b428c7123b",
            "value": 1296173892
          }
        },
        "9593b77599724d2091227f64286e29ea": {
          "model_module": "@jupyter-widgets/controls",
          "model_name": "HTMLModel",
          "model_module_version": "1.5.0",
          "state": {
            "_dom_classes": [],
            "_model_module": "@jupyter-widgets/controls",
            "_model_module_version": "1.5.0",
            "_model_name": "HTMLModel",
            "_view_count": null,
            "_view_module": "@jupyter-widgets/controls",
            "_view_module_version": "1.5.0",
            "_view_name": "HTMLView",
            "description": "",
            "description_tooltip": null,
            "layout": "IPY_MODEL_063db137f6a144feb0f3ca71ef92058b",
            "placeholder": "​",
            "style": "IPY_MODEL_ec07cc16cc2b4317b7012f4796397aff",
            "value": " 1.30G/1.30G [00:05&lt;00:00, 236MB/s]"
          }
        },
        "aa41c0511d0c48458ec2f886aa45273c": {
          "model_module": "@jupyter-widgets/base",
          "model_name": "LayoutModel",
          "model_module_version": "1.2.0",
          "state": {
            "_model_module": "@jupyter-widgets/base",
            "_model_module_version": "1.2.0",
            "_model_name": "LayoutModel",
            "_view_count": null,
            "_view_module": "@jupyter-widgets/base",
            "_view_module_version": "1.2.0",
            "_view_name": "LayoutView",
            "align_content": null,
            "align_items": null,
            "align_self": null,
            "border": null,
            "bottom": null,
            "display": null,
            "flex": null,
            "flex_flow": null,
            "grid_area": null,
            "grid_auto_columns": null,
            "grid_auto_flow": null,
            "grid_auto_rows": null,
            "grid_column": null,
            "grid_gap": null,
            "grid_row": null,
            "grid_template_areas": null,
            "grid_template_columns": null,
            "grid_template_rows": null,
            "height": null,
            "justify_content": null,
            "justify_items": null,
            "left": null,
            "margin": null,
            "max_height": null,
            "max_width": null,
            "min_height": null,
            "min_width": null,
            "object_fit": null,
            "object_position": null,
            "order": null,
            "overflow": null,
            "overflow_x": null,
            "overflow_y": null,
            "padding": null,
            "right": null,
            "top": null,
            "visibility": null,
            "width": null
          }
        },
        "6568eda2ff3743348969ff6f79e677de": {
          "model_module": "@jupyter-widgets/base",
          "model_name": "LayoutModel",
          "model_module_version": "1.2.0",
          "state": {
            "_model_module": "@jupyter-widgets/base",
            "_model_module_version": "1.2.0",
            "_model_name": "LayoutModel",
            "_view_count": null,
            "_view_module": "@jupyter-widgets/base",
            "_view_module_version": "1.2.0",
            "_view_name": "LayoutView",
            "align_content": null,
            "align_items": null,
            "align_self": null,
            "border": null,
            "bottom": null,
            "display": null,
            "flex": null,
            "flex_flow": null,
            "grid_area": null,
            "grid_auto_columns": null,
            "grid_auto_flow": null,
            "grid_auto_rows": null,
            "grid_column": null,
            "grid_gap": null,
            "grid_row": null,
            "grid_template_areas": null,
            "grid_template_columns": null,
            "grid_template_rows": null,
            "height": null,
            "justify_content": null,
            "justify_items": null,
            "left": null,
            "margin": null,
            "max_height": null,
            "max_width": null,
            "min_height": null,
            "min_width": null,
            "object_fit": null,
            "object_position": null,
            "order": null,
            "overflow": null,
            "overflow_x": null,
            "overflow_y": null,
            "padding": null,
            "right": null,
            "top": null,
            "visibility": null,
            "width": null
          }
        },
        "22dbc761234c4d97a4138eebb6a94639": {
          "model_module": "@jupyter-widgets/controls",
          "model_name": "DescriptionStyleModel",
          "model_module_version": "1.5.0",
          "state": {
            "_model_module": "@jupyter-widgets/controls",
            "_model_module_version": "1.5.0",
            "_model_name": "DescriptionStyleModel",
            "_view_count": null,
            "_view_module": "@jupyter-widgets/base",
            "_view_module_version": "1.2.0",
            "_view_name": "StyleView",
            "description_width": ""
          }
        },
        "3dd669eb148e4f2ab852344b6657a202": {
          "model_module": "@jupyter-widgets/base",
          "model_name": "LayoutModel",
          "model_module_version": "1.2.0",
          "state": {
            "_model_module": "@jupyter-widgets/base",
            "_model_module_version": "1.2.0",
            "_model_name": "LayoutModel",
            "_view_count": null,
            "_view_module": "@jupyter-widgets/base",
            "_view_module_version": "1.2.0",
            "_view_name": "LayoutView",
            "align_content": null,
            "align_items": null,
            "align_self": null,
            "border": null,
            "bottom": null,
            "display": null,
            "flex": null,
            "flex_flow": null,
            "grid_area": null,
            "grid_auto_columns": null,
            "grid_auto_flow": null,
            "grid_auto_rows": null,
            "grid_column": null,
            "grid_gap": null,
            "grid_row": null,
            "grid_template_areas": null,
            "grid_template_columns": null,
            "grid_template_rows": null,
            "height": null,
            "justify_content": null,
            "justify_items": null,
            "left": null,
            "margin": null,
            "max_height": null,
            "max_width": null,
            "min_height": null,
            "min_width": null,
            "object_fit": null,
            "object_position": null,
            "order": null,
            "overflow": null,
            "overflow_x": null,
            "overflow_y": null,
            "padding": null,
            "right": null,
            "top": null,
            "visibility": null,
            "width": null
          }
        },
        "66993eb7d9824b5bb5ed33b428c7123b": {
          "model_module": "@jupyter-widgets/controls",
          "model_name": "ProgressStyleModel",
          "model_module_version": "1.5.0",
          "state": {
            "_model_module": "@jupyter-widgets/controls",
            "_model_module_version": "1.5.0",
            "_model_name": "ProgressStyleModel",
            "_view_count": null,
            "_view_module": "@jupyter-widgets/base",
            "_view_module_version": "1.2.0",
            "_view_name": "StyleView",
            "bar_color": null,
            "description_width": ""
          }
        },
        "063db137f6a144feb0f3ca71ef92058b": {
          "model_module": "@jupyter-widgets/base",
          "model_name": "LayoutModel",
          "model_module_version": "1.2.0",
          "state": {
            "_model_module": "@jupyter-widgets/base",
            "_model_module_version": "1.2.0",
            "_model_name": "LayoutModel",
            "_view_count": null,
            "_view_module": "@jupyter-widgets/base",
            "_view_module_version": "1.2.0",
            "_view_name": "LayoutView",
            "align_content": null,
            "align_items": null,
            "align_self": null,
            "border": null,
            "bottom": null,
            "display": null,
            "flex": null,
            "flex_flow": null,
            "grid_area": null,
            "grid_auto_columns": null,
            "grid_auto_flow": null,
            "grid_auto_rows": null,
            "grid_column": null,
            "grid_gap": null,
            "grid_row": null,
            "grid_template_areas": null,
            "grid_template_columns": null,
            "grid_template_rows": null,
            "height": null,
            "justify_content": null,
            "justify_items": null,
            "left": null,
            "margin": null,
            "max_height": null,
            "max_width": null,
            "min_height": null,
            "min_width": null,
            "object_fit": null,
            "object_position": null,
            "order": null,
            "overflow": null,
            "overflow_x": null,
            "overflow_y": null,
            "padding": null,
            "right": null,
            "top": null,
            "visibility": null,
            "width": null
          }
        },
        "ec07cc16cc2b4317b7012f4796397aff": {
          "model_module": "@jupyter-widgets/controls",
          "model_name": "DescriptionStyleModel",
          "model_module_version": "1.5.0",
          "state": {
            "_model_module": "@jupyter-widgets/controls",
            "_model_module_version": "1.5.0",
            "_model_name": "DescriptionStyleModel",
            "_view_count": null,
            "_view_module": "@jupyter-widgets/base",
            "_view_module_version": "1.2.0",
            "_view_name": "StyleView",
            "description_width": ""
          }
        }
      }
    }
  },
  "nbformat": 4,
  "nbformat_minor": 5
}